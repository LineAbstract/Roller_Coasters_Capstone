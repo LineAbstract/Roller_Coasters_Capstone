{
 "cells": [
  {
   "attachments": {},
   "cell_type": "markdown",
   "metadata": {},
   "source": [
    "# Notes"
   ]
  },
  {
   "attachments": {},
   "cell_type": "markdown",
   "metadata": {},
   "source": [
    "### gathered current data available: "
   ]
  },
  {
   "attachments": {},
   "cell_type": "markdown",
   "metadata": {},
   "source": [
    "- **coaster_metrics**\n",
    "    - Coaster_ID: The unique identifier for each coaster in the database\n",
    "    - Name: The name of the roller coaster\n",
    "    - material_type: The material used to construct the coaster\n",
    "    - seating_type: The type of seating the coaster uses\n",
    "    - speed: The speed of the roller coaster, in MPH\n",
    "    - height: The height of the roller coaster, in meters\n",
    "    - length: The length of the roller coaster, in meters\n",
    "    - num_inversions: The number of inversions for the roller coaster\n",
    "    - manufacturer: The company that constructed the roller coaster\n",
    "    - Park: The name of the park where the coaster is located\n",
    "    - status: The current operational status of the roller coaster\n",
    "#\n",
    "- **park_locations**\n",
    "    - Park_ID: The unique identifier for each park in the database\n",
    "    - Park: The name of the amusement park\n",
    "    - City: The city where the park is located\n",
    "    - State: The state (or province/region) where the park is located\n",
    "    - Country: The country where the park is located\n",
    "    - Zip_Code: The zip code where the park is located\n",
    "#\n",
    "- **steel_coasters.csv**\n",
    "    - Rank: The rank of award the coaster received\n",
    "    - Year_of_Rank: The year the award was given\n",
    "    - Award_Category: The category of awards (Steel or Wooden)\n",
    "    - Name: Roller coaster name\n",
    "    - Park: Name of amusement park where coaster is located\n",
    "    - Location: Location of park, in mixed format\n",
    "    - Supplier: The supplier of the roller coaster\n",
    "    - Year_Built: The year the roller coaster was constructed\n",
    "#\n",
    "- **wood_coasters.csv**\n",
    "    - Rank: The rank of award the coaster received\n",
    "    - Year_of_Rank: The year the award was given\n",
    "    - Award_Category: The category of awards (Steel or Wooden)\n",
    "    - Name: Roller coaster name\n",
    "    - Park: Name of amusement park where coaster is located\n",
    "    - Location: Location of park, in mixed format\n",
    "    - Supplier: The supplier of the roller coaster\n",
    "    - Year_Built: The year the roller coaster was constructed"
   ]
  },
  {
   "attachments": {},
   "cell_type": "markdown",
   "metadata": {},
   "source": [
    "### created relational schema diagram of current data"
   ]
  },
  {
   "attachments": {},
   "cell_type": "markdown",
   "metadata": {},
   "source": [
    "![relational_schema](\\images\\relational_schema_initial.png)\n"
   ]
  },
  {
   "attachments": {},
   "cell_type": "markdown",
   "metadata": {},
   "source": [
    "### data set to generate"
   ]
  },
  {
   "attachments": {},
   "cell_type": "markdown",
   "metadata": {},
   "source": [
    "![relational_schema](\\images\\relational_schema_to_create.png)"
   ]
  },
  {
   "attachments": {},
   "cell_type": "markdown",
   "metadata": {},
   "source": [
    "### to do:"
   ]
  },
  {
   "attachments": {},
   "cell_type": "markdown",
   "metadata": {},
   "source": [
    "#### q1: Where should the park be built?"
   ]
  },
  {
   "attachments": {},
   "cell_type": "markdown",
   "metadata": {},
   "source": [
    "- location wise, what would we want to look at? \n",
    "  - population size; we want to target areas with high population\n",
    "    - need map of counties with population\n",
    "  - we don't want to be too close to other parks, say 100 miles from other parks\n",
    "    - radius around current parks \n",
    "  - probably want to be fairly close to highways\n",
    "    - map of highways across the US? \n",
    "\n",
    "---------------------\n",
    "\n",
    "1. scrape https://rcdb.com/r.htm?st=93&ol=59&ot=3\n",
    "    - this gives all the currently operating parks in the US\n",
    "      - get:\n",
    "        - amusement park name\n",
    "        - location\n",
    "        - status? \n",
    "        - num. of coasters <br>\n",
    "\n",
    "2. scrape https://rcdb.com/r.htm?st=310&ol=59&ot=3\n",
    "    - this gives all the parks under construction in the US\n",
    "      - get:\n",
    "        - amusement park name\n",
    "        - location\n",
    "        - status? \n",
    "        - num. of coasters\n",
    "\n",
    "3. merge scraped files into one (pandas/jupyter), load into tableau\n",
    "  - didn't need to do this as i scraped all the data into one file\n",
    "  - but...i DID have to wrangle data in google sheets again to make sure i got city, state, county separately so i could use it correctly in tableau\n",
    "\n",
    "4. need map of US counties with population (census 2022?)\n",
    "  - what did i have to do? found the US census data for county population\n",
    "  https://www.census.gov/data/tables/time-series/demo/popest/2020s-counties-total.html\n",
    "\n",
    "  - downloaded data\n",
    "  - had to wrangle it in google sheets; \n",
    "    - data had periods in the text,\n",
    "    - the county and state were in the same cell, meaning that tableau was not able to recognize the county \n",
    "\n",
    "5. create radius on map around current parks (100 miles? maybe less?)\n",
    "    - in tableau\n",
    "      - https://community.tableau.com/s/question/0D54T00000VBY8eSAH/how-to-add-radius-circle-around-location-on-map\n",
    "    - DID NOT NEED TO DO THIS! \n",
    "\n",
    "6. get map of major highways in the US\n",
    "  - found a premade viz -> Roads Across America\n",
    "    - US_Roads.twbx\n",
    "  - ALSO NOT NEEDED\n",
    "\n",
    "7. find areas that stack between where parks are currently located, high populated counties/cities/areas, close proximity to highways\n",
    "  - using the map that i created: \n",
    "    - we can adjust the number of coasters on the map to determine where it would be advantageous to build a park\n",
    "      - green means 1 coaster, etc, up to 20 which is in red\n",
    "      - purple, while it appears there are many of them and we ought to be worried about them, appear to be parks that either were parks and have converted to something else, or are still open to the general public for general experiences of being in a park, but have defunct (no longer functioning) rides, so they've been decomissioned. \n",
    "      - larger circles mean a larger park/more rides/attractions in the park\n",
    "    \n",
    "8. SOOO....where should we build this park? \n",
    "  - some ideas: \n",
    "    - Looks like the King County in Washington doesn't have any large parks, yet it has a high population \n",
    "    - Multnomah County in Northern Oregon also looks like a good candidate with high surrounding populations, and no large parks anywhere near\n",
    "    - As we go down the coast, it looks like SF and LA have multiple parks that have many rides and attractions. Potentially if we wanted to be very competitive, we could decide to build a park in NE LA closer to Victorville to compete with Six Flags Magic Mountain\n",
    "    - San Diego also does not have any large parks apart from SeaWorld which is not really a full on amusement park, and has a high population\n",
    "    - The area around Pheonix has a high population, and would be a good candidate\n",
    "    - Las Vegas may also be a good candidate\n",
    "    - Hoston may want to have it's own theme park to rival that of Dallas or San Antonio\n",
    "    - Looks like there is some good oprtunity in Miami, Florida. High population, no biggg parks near it\n",
    "    - Raleigh, NC may also be a good location as it is a growing location\n",
    "    - Nashville, TN may also be a candidate"
   ]
  },
  {
   "attachments": {},
   "cell_type": "markdown",
   "metadata": {},
   "source": [
    "#### q2: What metrics should guide the construction of a flagship roller coaster that can compete in ranking with other highly ranked roller coasters in the same category?"
   ]
  },
  {
   "attachments": {},
   "cell_type": "markdown",
   "metadata": {},
   "source": [
    "- max speed & height which likely has correlation (to determine), \n",
    "- length of ride, \n",
    "- material (likely steel) for safety, longevity and robustness\n",
    "\n",
    "--------------\n",
    "\n",
    "1. merge coaster_metrics with steel_coasters and wood_coasters\n",
    "\n",
    "2. understand data:\n",
    "    - df.shape\n",
    "    - df.head\n",
    "    - df.columns\n",
    "    - df.types\n",
    "    \n",
    "    - df.info\n",
    "    - df.describe (mean, min, max, etc)\n",
    "\n",
    "3. understand data\n",
    "    - drop some columns\n",
    "    - convert date to timestandard?\n",
    "    - rename columns?\n",
    "    - find missing values? \n",
    "        - df.isna\n",
    "        - df.isna().sum()\n",
    "    - duplicated values?\n",
    "        - df.duplicated()\n",
    "        - df.loc[df.duplicated()]\n",
    "    "
   ]
  },
  {
   "attachments": {},
   "cell_type": "markdown",
   "metadata": {},
   "source": [
    "#### q3: Which material(s) should be used to build the coaster? (Wood, steel, or a hybrid of both)"
   ]
  }
 ],
 "metadata": {
  "kernelspec": {
   "display_name": "Python 3",
   "language": "python",
   "name": "python3"
  },
  "language_info": {
   "name": "python",
   "version": "3.10.5 (tags/v3.10.5:f377153, Jun  6 2022, 16:14:13) [MSC v.1929 64 bit (AMD64)]"
  },
  "orig_nbformat": 4,
  "vscode": {
   "interpreter": {
    "hash": "9992c78e4daa8bfa32e0466d9f5b3ce25dd1b208084dfefaa46829c75e47a75e"
   }
  }
 },
 "nbformat": 4,
 "nbformat_minor": 2
}
